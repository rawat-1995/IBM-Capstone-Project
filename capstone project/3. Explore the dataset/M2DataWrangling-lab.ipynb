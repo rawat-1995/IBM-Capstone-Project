{
 "cells": [
  {
   "cell_type": "markdown",
   "metadata": {},
   "source": [
    "<p style=\"text-align:center\">\n",
    "    <a href=\"https://skills.network/?utm_medium=Exinfluencer&utm_source=Exinfluencer&utm_content=000026UJ&utm_term=10006555&utm_id=NA-SkillsNetwork-Channel-SkillsNetworkCoursesIBMDA0321ENSkillsNetwork928-2022-01-01\" target=\"_blank\">\n",
    "    <img src=\"https://cf-courses-data.s3.us.cloud-object-storage.appdomain.cloud/assets/logos/SN_web_lightmode.png\" width=\"200\" alt=\"Skills Network Logo\"  />\n",
    "    </a>\n",
    "</p>\n"
   ]
  },
  {
   "cell_type": "markdown",
   "metadata": {},
   "source": [
    "# **Data Wrangling Lab**\n"
   ]
  },
  {
   "cell_type": "markdown",
   "metadata": {},
   "source": [
    "Estimated time needed: **45 to 60** minutes\n"
   ]
  },
  {
   "cell_type": "markdown",
   "metadata": {},
   "source": [
    "In this assignment you will be performing data wrangling.\n"
   ]
  },
  {
   "cell_type": "markdown",
   "metadata": {},
   "source": [
    "## Objectives\n"
   ]
  },
  {
   "cell_type": "markdown",
   "metadata": {},
   "source": [
    "In this lab you will perform the following:\n"
   ]
  },
  {
   "cell_type": "markdown",
   "metadata": {},
   "source": [
    "-   Identify duplicate values in the dataset.\n",
    "\n",
    "-   Remove duplicate values from the dataset.\n",
    "\n",
    "-   Identify missing values in the dataset.\n",
    "\n",
    "-   Impute the missing values in the dataset.\n",
    "\n",
    "-   Normalize data in the dataset.\n"
   ]
  },
  {
   "cell_type": "markdown",
   "metadata": {},
   "source": [
    "<hr>\n"
   ]
  },
  {
   "cell_type": "markdown",
   "metadata": {},
   "source": [
    "## Hands on Lab\n"
   ]
  },
  {
   "cell_type": "markdown",
   "metadata": {},
   "source": [
    "Import pandas module.\n"
   ]
  },
  {
   "cell_type": "code",
   "execution_count": 1,
   "metadata": {
    "tags": []
   },
   "outputs": [],
   "source": [
    "import pandas as pd"
   ]
  },
  {
   "cell_type": "markdown",
   "metadata": {},
   "source": [
    "Load the dataset into a dataframe.\n"
   ]
  },
  {
   "cell_type": "code",
   "execution_count": 2,
   "metadata": {
    "tags": []
   },
   "outputs": [],
   "source": [
    "df = pd.read_csv(\"https://cf-courses-data.s3.us.cloud-object-storage.appdomain.cloud/IBM-DA0321EN-SkillsNetwork/LargeData/m1_survey_data.csv\")"
   ]
  },
  {
   "cell_type": "markdown",
   "metadata": {},
   "source": [
    "## Finding duplicates\n"
   ]
  },
  {
   "cell_type": "markdown",
   "metadata": {},
   "source": [
    "In this section you will identify duplicate values in the dataset.\n"
   ]
  },
  {
   "cell_type": "markdown",
   "metadata": {},
   "source": [
    " Find how many duplicate rows exist in the dataframe.\n"
   ]
  },
  {
   "cell_type": "code",
   "execution_count": 3,
   "metadata": {
    "tags": []
   },
   "outputs": [
    {
     "name": "stdout",
     "output_type": "stream",
     "text": [
      "Number of duplicate rows: 154\n"
     ]
    }
   ],
   "source": [
    "# your code goes here\n",
    "num_duplicate_rows=df.duplicated().sum()\n",
    "print(\"Number of duplicate rows:\", num_duplicate_rows)"
   ]
  },
  {
   "cell_type": "markdown",
   "metadata": {},
   "source": [
    "## Removing duplicates\n"
   ]
  },
  {
   "cell_type": "markdown",
   "metadata": {},
   "source": [
    "Remove the duplicate rows from the dataframe.\n"
   ]
  },
  {
   "cell_type": "code",
   "execution_count": 4,
   "metadata": {
    "tags": []
   },
   "outputs": [
    {
     "name": "stdout",
     "output_type": "stream",
     "text": [
      "Number of rows before removing duplicates: 11552\n",
      "Number of rows after removing duplicates: 11398\n"
     ]
    }
   ],
   "source": [
    "# your code goes here\n",
    "# Remove duplicate rows from the dataframe\n",
    "df_no_duplicates = df.drop_duplicates()\n",
    "\n",
    "# Print the number of rows before and after removing duplicates\n",
    "print(\"Number of rows before removing duplicates:\", len(df))\n",
    "print(\"Number of rows after removing duplicates:\", len(df_no_duplicates))\n",
    "\n",
    "## after removing the duplicate rows, how many respondents are being paid yearly?\n",
    "# df_no_duplicates = df.drop_duplicates()\n",
    "# yearly_paid_count = df_no_duplicates[df_no_duplicates['CompFreq'] == 'Yearly'].shape[0]\n",
    "# print(\"Number of respondents being paid yearly:\", yearly_paid_count)\n",
    "\n"
   ]
  },
  {
   "cell_type": "markdown",
   "metadata": {},
   "source": [
    "Verify if duplicates were actually dropped.\n"
   ]
  },
  {
   "cell_type": "code",
   "execution_count": 5,
   "metadata": {
    "tags": []
   },
   "outputs": [
    {
     "name": "stdout",
     "output_type": "stream",
     "text": [
      "Number of duplicate rows after removing duplicates: 0\n"
     ]
    }
   ],
   "source": [
    "# your code goes here\n",
    "# Check for duplicate rows in the new DataFrame\n",
    "num_duplicate_rows_after = df_no_duplicates.duplicated().sum()\n",
    "\n",
    "# Print the number of duplicate rows after removing duplicates\n",
    "print(\"Number of duplicate rows after removing duplicates:\", num_duplicate_rows_after)\n",
    "\n",
    "\n",
    "# #What is the median NormalizedAnnualCompensation?\n",
    "\n",
    "# #Answer: To find this, you can use median() on the 'NormalizedAnnualCompensation' column:\n",
    "# median_compensation = df_no_duplicates['NormalizedAnnualCompensation'].median()\n",
    "# print(\"Median NormalizedAnnualCompensation:\", median_compensation)\n"
   ]
  },
  {
   "cell_type": "markdown",
   "metadata": {},
   "source": [
    "## Finding Missing values\n"
   ]
  },
  {
   "cell_type": "markdown",
   "metadata": {},
   "source": [
    "Find the missing values for all columns.\n"
   ]
  },
  {
   "cell_type": "code",
   "execution_count": 6,
   "metadata": {
    "tags": []
   },
   "outputs": [
    {
     "name": "stdout",
     "output_type": "stream",
     "text": [
      "Missing values for each column:\n",
      "Respondent        0\n",
      "MainBranch        0\n",
      "Hobbyist          0\n",
      "OpenSourcer       0\n",
      "OpenSource       81\n",
      "               ... \n",
      "Sexuality       547\n",
      "Ethnicity       683\n",
      "Dependents      144\n",
      "SurveyLength     19\n",
      "SurveyEase       14\n",
      "Length: 85, dtype: int64\n"
     ]
    }
   ],
   "source": [
    "# your code goes here\n",
    "missing_values=df.isnull().sum()\n",
    "# Print the missing values for each column\n",
    "print(\"Missing values for each column:\")\n",
    "print(missing_values)"
   ]
  },
  {
   "cell_type": "markdown",
   "metadata": {},
   "source": [
    "Find out how many rows are missing in the column 'WorkLoc'\n"
   ]
  },
  {
   "cell_type": "code",
   "execution_count": 7,
   "metadata": {
    "tags": []
   },
   "outputs": [
    {
     "name": "stdout",
     "output_type": "stream",
     "text": [
      "Number of missing rows in 'WorkLoc' column: 32\n"
     ]
    }
   ],
   "source": [
    "# your code goes here\n",
    "# Find the number of missing rows in the 'WorkLoc' column\n",
    "missing_workloc_rows = df['WorkLoc'].isnull().sum()\n",
    "\n",
    "# Print the result\n",
    "print(\"Number of missing rows in 'WorkLoc' column:\", missing_workloc_rows)\n"
   ]
  },
  {
   "cell_type": "markdown",
   "metadata": {},
   "source": [
    "## Imputing missing values\n"
   ]
  },
  {
   "cell_type": "markdown",
   "metadata": {},
   "source": [
    "Find the  value counts for the column WorkLoc.\n"
   ]
  },
  {
   "cell_type": "code",
   "execution_count": 8,
   "metadata": {
    "tags": []
   },
   "outputs": [
    {
     "name": "stdout",
     "output_type": "stream",
     "text": [
      "Value counts for 'WorkLoc' column:\n",
      "WorkLoc\n",
      "Office                                            6905\n",
      "Home                                              3638\n",
      "Other place, such as a coworking space or cafe     977\n",
      "Name: count, dtype: int64\n"
     ]
    }
   ],
   "source": [
    "# your code goes here\n",
    "# Find the value counts for the 'WorkLoc' column\n",
    "workloc_value_counts = df['WorkLoc'].value_counts()\n",
    "\n",
    "# Print the result\n",
    "print(\"Value counts for 'WorkLoc' column:\")\n",
    "print(workloc_value_counts)\n"
   ]
  },
  {
   "cell_type": "markdown",
   "metadata": {},
   "source": [
    "Identify the value that is most frequent (majority) in the WorkLoc column.\n"
   ]
  },
  {
   "cell_type": "markdown",
   "metadata": {},
   "source": [
    "Impute (replace) all the empty rows in the column WorkLoc with the value that you have identified as majority.\n"
   ]
  },
  {
   "cell_type": "code",
   "execution_count": 9,
   "metadata": {
    "tags": []
   },
   "outputs": [
    {
     "name": "stdout",
     "output_type": "stream",
     "text": [
      "Most frequent value in 'WorkLoc' column: Office\n"
     ]
    }
   ],
   "source": [
    "#make a note of the majority value here, for future reference\n",
    "# Identify the most frequent value in the 'WorkLoc' column\n",
    "most_frequent_workloc = df['WorkLoc'].mode().values[0]\n",
    "\n",
    "# Print the result\n",
    "print(\"Most frequent value in 'WorkLoc' column:\", most_frequent_workloc)\n"
   ]
  },
  {
   "cell_type": "markdown",
   "metadata": {},
   "source": [
    "# Impute (replace) all the empty rows in the column WorkLoc with the value that you have identified as majority."
   ]
  },
  {
   "cell_type": "code",
   "execution_count": 10,
   "metadata": {
    "tags": []
   },
   "outputs": [],
   "source": [
    "# your code goes here\n",
    "# Impute empty rows in the 'WorkLoc' column with the most frequent value\n",
    "df['WorkLoc'].fillna(most_frequent_workloc, inplace=True)"
   ]
  },
  {
   "cell_type": "markdown",
   "metadata": {},
   "source": [
    "After imputation there should ideally not be any empty rows in the WorkLoc column.\n"
   ]
  },
  {
   "cell_type": "markdown",
   "metadata": {},
   "source": [
    "Verify if imputing was successful.\n"
   ]
  },
  {
   "cell_type": "code",
   "execution_count": 11,
   "metadata": {
    "tags": []
   },
   "outputs": [
    {
     "name": "stdout",
     "output_type": "stream",
     "text": [
      "Number of missing values after imputation: 0\n"
     ]
    }
   ],
   "source": [
    "# your code goes here\n",
    "# Verify that missing values have been imputed\n",
    "missing_values_after_imputation = df['WorkLoc'].isnull().sum()\n",
    "print(\"Number of missing values after imputation:\", missing_values_after_imputation)"
   ]
  },
  {
   "cell_type": "markdown",
   "metadata": {},
   "source": [
    "## Normalizing data\n"
   ]
  },
  {
   "cell_type": "markdown",
   "metadata": {},
   "source": [
    "There are two columns in the dataset that talk about compensation.\n",
    "\n",
    "One is \"CompFreq\". This column shows how often a developer is paid (Yearly, Monthly, Weekly).\n",
    "\n",
    "The other is \"CompTotal\". This column talks about how much the developer is paid per Year, Month, or Week depending upon his/her \"CompFreq\". \n",
    "\n",
    "This makes it difficult to compare the total compensation of the developers.\n",
    "\n",
    "In this section you will create a new column called 'NormalizedAnnualCompensation' which contains the 'Annual Compensation' irrespective of the 'CompFreq'.\n",
    "\n",
    "Once this column is ready, it makes comparison of salaries easy.\n"
   ]
  },
  {
   "cell_type": "markdown",
   "metadata": {},
   "source": [
    "<hr>\n"
   ]
  },
  {
   "cell_type": "markdown",
   "metadata": {},
   "source": [
    "List out the various categories in the column 'CompFreq'\n"
   ]
  },
  {
   "cell_type": "code",
   "execution_count": 12,
   "metadata": {
    "tags": []
   },
   "outputs": [
    {
     "name": "stdout",
     "output_type": "stream",
     "text": [
      "Categories in the 'CompFreq' column: ['Yearly' 'Monthly' 'Weekly' nan]\n"
     ]
    }
   ],
   "source": [
    "# your code goes here\n",
    "# Display unique values in the 'CompFreq' column\n",
    "compfreq_categories = df['CompFreq'].unique()\n",
    "print(\"Categories in the 'CompFreq' column:\", compfreq_categories)\n",
    "\n",
    "\n",
    "#How many unique values are there in the CompFreq column?     \n",
    "# compfreq_categories = df['CompFreq'].nunique()\n",
    "# print(\"Categories in the 'CompFreq' column:\", compfreq_categories)"
   ]
  },
  {
   "cell_type": "markdown",
   "metadata": {},
   "source": [
    "Create a new column named 'NormalizedAnnualCompensation'. Use the hint given below if needed.\n"
   ]
  },
  {
   "cell_type": "markdown",
   "metadata": {},
   "source": [
    "Double click to see the **Hint**.\n",
    "\n",
    "<!--\n",
    "\n",
    "Use the below logic to arrive at the values for the column NormalizedAnnualCompensation.\n",
    "\n",
    "If the CompFreq is Yearly then use the exising value in CompTotal\n",
    "If the CompFreq is Monthly then multiply the value in CompTotal with 12 (months in an year)\n",
    "If the CompFreq is Weekly then multiply the value in CompTotal with 52 (weeks in an year)\n",
    "\n",
    "-->\n"
   ]
  },
  {
   "cell_type": "code",
   "execution_count": 13,
   "metadata": {
    "tags": []
   },
   "outputs": [
    {
     "name": "stdout",
     "output_type": "stream",
     "text": [
      "   Respondent                      MainBranch Hobbyist  \\\n",
      "0           4  I am a developer by profession       No   \n",
      "1           9  I am a developer by profession      Yes   \n",
      "2          13  I am a developer by profession      Yes   \n",
      "3          16  I am a developer by profession      Yes   \n",
      "4          17  I am a developer by profession      Yes   \n",
      "\n",
      "                                         OpenSourcer  \\\n",
      "0                                              Never   \n",
      "1                         Once a month or more often   \n",
      "2  Less than once a month but more than once per ...   \n",
      "3                                              Never   \n",
      "4  Less than once a month but more than once per ...   \n",
      "\n",
      "                                          OpenSource          Employment  \\\n",
      "0  The quality of OSS and closed source software ...  Employed full-time   \n",
      "1  The quality of OSS and closed source software ...  Employed full-time   \n",
      "2  OSS is, on average, of HIGHER quality than pro...  Employed full-time   \n",
      "3  The quality of OSS and closed source software ...  Employed full-time   \n",
      "4  The quality of OSS and closed source software ...  Employed full-time   \n",
      "\n",
      "          Country Student                                            EdLevel  \\\n",
      "0   United States      No           Bachelor’s degree (BA, BS, B.Eng., etc.)   \n",
      "1     New Zealand      No  Some college/university study without earning ...   \n",
      "2   United States      No        Master’s degree (MA, MS, M.Eng., MBA, etc.)   \n",
      "3  United Kingdom      No        Master’s degree (MA, MS, M.Eng., MBA, etc.)   \n",
      "4       Australia      No           Bachelor’s degree (BA, BS, B.Eng., etc.)   \n",
      "\n",
      "                                      UndergradMajor  ...  \\\n",
      "0  Computer science, computer engineering, or sof...  ...   \n",
      "1  Computer science, computer engineering, or sof...  ...   \n",
      "2  Computer science, computer engineering, or sof...  ...   \n",
      "3                                                NaN  ...   \n",
      "4  Computer science, computer engineering, or sof...  ...   \n",
      "\n",
      "                                        SONewContent   Age Gender Trans  \\\n",
      "0  Tech articles written by other developers;Indu...  22.0    Man    No   \n",
      "1                                                NaN  23.0    Man    No   \n",
      "2  Tech articles written by other developers;Cour...  28.0    Man    No   \n",
      "3  Tech articles written by other developers;Indu...  26.0    Man    No   \n",
      "4  Tech articles written by other developers;Indu...  29.0    Man    No   \n",
      "\n",
      "                 Sexuality                              Ethnicity Dependents  \\\n",
      "0  Straight / Heterosexual           White or of European descent         No   \n",
      "1                 Bisexual           White or of European descent         No   \n",
      "2  Straight / Heterosexual           White or of European descent        Yes   \n",
      "3  Straight / Heterosexual           White or of European descent         No   \n",
      "4  Straight / Heterosexual  Hispanic or Latino/Latina;Multiracial         No   \n",
      "\n",
      "            SurveyLength                  SurveyEase  \\\n",
      "0  Appropriate in length                        Easy   \n",
      "1  Appropriate in length  Neither easy nor difficult   \n",
      "2  Appropriate in length                        Easy   \n",
      "3  Appropriate in length  Neither easy nor difficult   \n",
      "4  Appropriate in length                        Easy   \n",
      "\n",
      "  NormalizedAnnualCompensation  \n",
      "0                      61000.0  \n",
      "1                     138000.0  \n",
      "2                      90000.0  \n",
      "3                     348000.0  \n",
      "4                      90000.0  \n",
      "\n",
      "[5 rows x 86 columns]\n"
     ]
    }
   ],
   "source": [
    "# your code goes here\n",
    "# Define a function to normalize compensation values to annual\n",
    "def normalize_compensation(row):\n",
    "    if row['CompFreq'] == 'Yearly':\n",
    "        return row['CompTotal']\n",
    "    elif row['CompFreq'] == 'Monthly':\n",
    "        return row['CompTotal'] * 12\n",
    "    elif row['CompFreq'] == 'Weekly':\n",
    "        return row['CompTotal'] * 52\n",
    "    else:\n",
    "        return None  # Handle other cases\n",
    "\n",
    "# Apply the function to create the new column\n",
    "df['NormalizedAnnualCompensation'] = df.apply(normalize_compensation, axis=1)\n",
    "\n",
    "# Display the top 5 rows of the updated dataframe\n",
    "print(df.head())\n"
   ]
  },
  {
   "cell_type": "markdown",
   "metadata": {},
   "source": [
    "## Authors\n"
   ]
  },
  {
   "cell_type": "markdown",
   "metadata": {},
   "source": [
    "Ramesh Sannareddy\n"
   ]
  },
  {
   "cell_type": "markdown",
   "metadata": {},
   "source": [
    "### Other Contributors\n"
   ]
  },
  {
   "cell_type": "markdown",
   "metadata": {},
   "source": [
    "Rav Ahuja\n"
   ]
  },
  {
   "cell_type": "markdown",
   "metadata": {},
   "source": [
    "## Change Log\n"
   ]
  },
  {
   "cell_type": "markdown",
   "metadata": {},
   "source": [
    "| Date (YYYY-MM-DD) | Version | Changed By        | Change Description                 |\n",
    "| ----------------- | ------- | ----------------- | ---------------------------------- |\n",
    "| 2020-10-17        | 0.1     | Ramesh Sannareddy | Created initial version of the lab |\n"
   ]
  },
  {
   "cell_type": "markdown",
   "metadata": {},
   "source": [
    " Copyright © 2020 IBM Corporation. This notebook and its source code are released under the terms of the [MIT License](https://cognitiveclass.ai/mit-license?utm_medium=Exinfluencer&utm_source=Exinfluencer&utm_content=000026UJ&utm_term=10006555&utm_id=NA-SkillsNetwork-Channel-SkillsNetworkCoursesIBMDA0321ENSkillsNetwork928-2022-01-01&cm_mmc=Email_Newsletter-_-Developer_Ed%2BTech-_-WW_WW-_-SkillsNetwork-Courses-IBM-DA0321EN-SkillsNetwork-21426264&cm_mmca1=000026UJ&cm_mmca2=10006555&cm_mmca3=M12345678&cvosrc=email.Newsletter.M12345678&cvo_campaign=000026UJ).\n"
   ]
  }
 ],
 "metadata": {
  "kernelspec": {
   "display_name": "Python 3",
   "language": "python",
   "name": "python3"
  },
  "language_info": {
   "codemirror_mode": {
    "name": "ipython",
    "version": 3
   },
   "file_extension": ".py",
   "mimetype": "text/x-python",
   "name": "python",
   "nbconvert_exporter": "python",
   "pygments_lexer": "ipython3",
   "version": "3.12.1"
  }
 },
 "nbformat": 4,
 "nbformat_minor": 4
}
